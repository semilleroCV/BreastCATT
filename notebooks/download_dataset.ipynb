{
 "cells": [
  {
   "cell_type": "code",
   "execution_count": 1,
   "metadata": {},
   "outputs": [
    {
     "name": "stderr",
     "output_type": "stream",
     "text": [
      "/home/guillermo/.local/lib/python3.10/site-packages/tqdm/auto.py:21: TqdmWarning: IProgress not found. Please update jupyter and ipywidgets. See https://ipywidgets.readthedocs.io/en/stable/user_install.html\n",
      "  from .autonotebook import tqdm as notebook_tqdm\n"
     ]
    }
   ],
   "source": [
    "from datasets import load_dataset"
   ]
  },
  {
   "cell_type": "code",
   "execution_count": null,
   "metadata": {},
   "outputs": [
    {
     "name": "stderr",
     "output_type": "stream",
     "text": [
      "Downloading data: 100%|██████████| 5671/5671 [03:57<00:00, 23.90files/s] \n",
      "Downloading data: 100%|██████████| 1482/1482 [01:34<00:00, 15.66files/s]\n",
      "Generating train split: 2722080 examples [04:05, 11073.23 examples/s]\n",
      "Generating test split: 711360 examples [01:05, 10800.40 examples/s]\n"
     ]
    }
   ],
   "source": [
    "dataset = load_dataset(\"SemilleroCV/DMR-IR\")"
   ]
  },
  {
   "cell_type": "code",
   "execution_count": 5,
   "metadata": {},
   "outputs": [
    {
     "data": {
      "text/plain": [
       "{'text': '28.00 28.59 28.31 28.25 28.07 28.28 28.43 28.13 28.20 28.33 28.42 28.29 28.29 28.45 28.30 28.47 28.41 28.46 28.56 28.26 28.49 28.48 28.35 28.49 28.66 28.41 28.79 28.66 28.71 28.70 28.66 28.80 28.84 28.86 28.68 28.94 28.66 28.79 28.77 29.05 29.01 29.09 29.01 29.03 28.94 29.05 29.10 29.10 29.15 29.11 28.92 29.22 28.93 29.08 29.08 29.25 29.08 29.23 29.22 29.43 29.26 29.33 29.32 29.37 29.39 29.44 29.36 29.29 29.35 29.30 29.48 29.34 29.39 29.40 29.49 29.39 29.32 29.41 29.49 29.32 29.25 29.24 29.18 29.35 29.30 29.22 29.32 29.24 29.14 29.37 29.23 29.31 29.27 29.36 29.36 29.36 29.40 29.47 29.42 29.77 29.48 29.43 29.78 29.63 29.65 29.50 29.66 29.67 29.63 29.83 29.71 29.89 29.70 29.91 29.70 29.94 29.71 30.06 30.13 30.14 29.99 30.04 30.15 30.22 30.33 30.33 30.22 30.50 30.52 30.59 30.43 30.54 30.51 30.65 30.65 30.47 30.59 30.69 30.66 30.74 30.66 30.77 30.80 30.83 30.88 30.92 30.69 30.92 30.93 30.81 30.74 30.92 30.88 30.75 30.77 30.83 30.78 30.76 30.77 30.71 30.77 30.78 30.60 30.66 30.43 30.56 30.21 30.31 29.97 29.81 29.54 29.28 28.93 28.77 28.27 28.00 27.50 27.30 26.81 26.48 26.09 25.79 25.35 24.80 24.55 24.22 23.93 23.70 23.52 23.18 23.11 22.82 22.90 22.63 22.62 22.45 22.46 22.47 22.24 22.28 22.46 22.15 22.23 22.19 22.30 22.25 22.26 22.11 22.31 22.30 22.30 22.20 22.22 22.21 22.35 22.26 22.24 22.34 22.35 22.35 22.28 22.38 22.42 22.42 22.50 22.61 22.84 22.94 23.33 23.29 23.97 24.20 24.54 24.80 25.14 25.60 25.96 26.38 26.73 27.05 27.43 27.69 28.15 28.51 28.79 29.32 29.59 29.87 30.31 30.11 30.33 30.33 30.31 30.32 30.20 30.13 30.21 30.22 30.26 30.17 30.19 30.21 30.21 30.24 30.32 30.06 30.36 30.21 30.29 30.39 30.20 30.35 30.32 30.44 30.38 30.47 30.52 30.49 30.50 30.37 30.34 30.28 30.31 30.08 30.00 30.16 30.01 29.92 29.93 30.01 30.01 29.97 29.94 29.92 29.85 29.90 29.85 30.07 29.81 29.92 29.91 30.03 29.99 30.12 29.90 30.08 30.16 30.17 30.25 30.23 30.40 30.48 30.48 30.50 30.59 30.60 30.73 30.51 30.64 30.58 30.47 30.46 30.45 30.33 30.38 30.21 30.11 30.00 30.04 30.03 29.88 29.92 30.04 29.91 29.95 29.93 29.94 30.19 29.96 30.14 30.18 30.21 30.44 30.44 30.44 30.68 30.64 30.82 30.88 30.80 30.91 30.92 30.93 30.92 31.08 31.22 31.32 31.49 31.43 31.43 31.46 31.45 31.42 31.30 31.32 31.28 30.85 30.79 30.79 30.60 30.52 30.50 30.48 30.61 30.28 30.55 30.53 30.53 30.52 30.53 30.51 30.42 30.48 30.46 30.56 30.63 30.61 30.62 30.57 30.66 30.74 30.72 30.97 30.83 31.03 31.14 31.04 31.03 30.81 30.64 30.43 30.04 29.67 29.36 29.00 28.84 28.51 28.50 28.24 27.96 27.93 27.77 27.54 27.40 27.30 27.12 26.88 26.91 26.84 26.66 26.66 26.52 26.35 26.22 26.19 25.99 25.99 25.66 25.66 25.26 25.11 25.11 24.55 24.35 24.05 23.86 23.75 23.51 23.08 23.08 22.84 22.60 22.57 22.59 22.44 22.28 22.34 22.31 22.40 22.30 22.40 22.34 22.47 22.35 22.35 22.24 22.41 22.34 22.57 22.41 22.56 22.49 22.55 22.64 22.94 22.94 23.06 23.11 23.29 23.29 23.54 23.90 23.88 24.02 24.48 24.85 24.86 25.16 25.36 26.00 26.30 26.32 26.83 27.29 27.59 27.91 28.20 28.61 28.99 29.41 29.78 29.99 30.36 30.72 30.90 30.98 31.18 31.26 31.12 31.29 31.24 31.14 31.12 31.10 31.10 30.96 30.86 30.88 30.83 30.82 30.61 30.61 30.64 30.54 30.35 30.23 30.23 30.06 30.08 29.96 29.94 29.91 29.77 29.68 29.59 29.83 29.86 29.62 29.85 29.85 29.79 29.82 29.76 29.87 29.80 29.62 29.75 29.62 29.78 29.57 29.60 29.54 29.53 29.59 29.54 29.58 29.42 29.54 29.43 29.65 29.45 29.45 29.46 29.70 29.47 29.48 29.61 29.37 29.51 29.52 29.67 29.50 29.60 29.38 29.49 29.36 29.49 29.49 29.51 29.47 29.46 29.37 29.35 29.33 29.52 29.47 29.52 29.36 29.48 29.28 29.52 29.29 29.48 29.37 29.56 29.46 29.48 29.48 29.49 29.58 29.50 29.58 29.59 29.62 29.78 29.81 29.48 29.72 29.70 29.69 29.75 29.89 29.83 29.73 29.72 29.82 29.82 29.82 29.86 29.85 29.94 29.83 29.72 30.17 30.12 29.91 29.93 30.02 30.01 30.00 30.03 30.19 29.99 30.23 30.12 30.23 30.14 30.11 30.13 30.11 30.02 30.32 30.03 30.19 30.05 30.04 30.03 29.95 30.19 30.00'}"
      ]
     },
     "execution_count": 5,
     "metadata": {},
     "output_type": "execute_result"
    }
   ],
   "source": [
    "dataset['train'][0]"
   ]
  },
  {
   "cell_type": "code",
   "execution_count": 1,
   "metadata": {},
   "outputs": [],
   "source": [
    "import numpy as np"
   ]
  },
  {
   "cell_type": "code",
   "execution_count": 3,
   "metadata": {},
   "outputs": [
    {
     "name": "stdout",
     "output_type": "stream",
     "text": [
      "(480, 640) [20.52 20.55 20.56 ... 34.54 34.55 34.57]\n"
     ]
    }
   ],
   "source": [
    "img = np.loadtxt('/home/guillermo/git/BreastCATT/data/DMR-IR/test/benign/PAC_3_001.txt')\n",
    "print(img.shape, np.unique(img))"
   ]
  },
  {
   "cell_type": "code",
   "execution_count": 4,
   "metadata": {},
   "outputs": [
    {
     "name": "stdout",
     "output_type": "stream",
     "text": [
      "Shape: (480, 640)\n",
      "Valores únicos: [20.52 20.55 20.56 ... 34.54 34.55 34.57]\n"
     ]
    }
   ],
   "source": [
    "import numpy as np\n",
    "from PIL import Image\n",
    "\n",
    "# Cargar la matriz de temperatura desde el archivo .txt\n",
    "img = np.loadtxt('/home/guillermo/git/BreastCATT/data/DMR-IR/test/benign/PAC_3_001.txt')\n",
    "print(\"Shape:\", img.shape)\n",
    "print(\"Valores únicos:\", np.unique(img))\n",
    "\n",
    "# Convertir la matriz a una imagen en modo 'F' (32 bits en punto flotante)\n",
    "img_pil = Image.fromarray(img.astype(np.float32), mode='F')\n",
    "\n",
    "# Guardar la imagen en formato TIFF\n",
    "img_pil.save('/home/guillermo/git/BreastCATT/data/DMR-IR/PAC_3_001.tiff')"
   ]
  },
  {
   "cell_type": "code",
   "execution_count": 5,
   "metadata": {},
   "outputs": [
    {
     "name": "stdout",
     "output_type": "stream",
     "text": [
      "Shape: (480, 640)\n",
      "Valores únicos: [20.52 20.55 20.56 ... 34.54 34.55 34.57]\n"
     ]
    }
   ],
   "source": [
    "from PIL import Image\n",
    "import numpy as np\n",
    "\n",
    "# Abrir la imagen TIFF guardada en modo 'F'\n",
    "img_pil = Image.open('/home/guillermo/git/BreastCATT/data/DMR-IR/PAC_3_001.tiff')\n",
    "\n",
    "# Convertirla a un array de NumPy para trabajar con los datos numéricos\n",
    "img = np.array(img_pil, dtype=np.float32)\n",
    "\n",
    "print(\"Shape:\", img.shape)\n",
    "print(\"Valores únicos:\", np.unique(img))"
   ]
  },
  {
   "cell_type": "code",
   "execution_count": 1,
   "metadata": {},
   "outputs": [
    {
     "name": "stderr",
     "output_type": "stream",
     "text": [
      "/home/guillermo/.local/lib/python3.10/site-packages/tqdm/auto.py:21: TqdmWarning: IProgress not found. Please update jupyter and ipywidgets. See https://ipywidgets.readthedocs.io/en/stable/user_install.html\n",
      "  from .autonotebook import tqdm as notebook_tqdm\n"
     ]
    }
   ],
   "source": [
    "from datasets import load_dataset"
   ]
  },
  {
   "cell_type": "markdown",
   "metadata": {},
   "source": [
    "## breast thermography"
   ]
  },
  {
   "cell_type": "code",
   "execution_count": 11,
   "metadata": {},
   "outputs": [
    {
     "name": "stderr",
     "output_type": "stream",
     "text": [
      "Downloading data: 100%|██████████| 286/286 [00:00<00:00, 98941.85files/s]\n",
      "Downloading data: 100%|██████████| 73/73 [00:00<00:00, 256435.67files/s]\n",
      "Generating train split: 285 examples [00:00, 6881.93 examples/s]\n",
      "Generating test split: 72 examples [00:00, 4318.46 examples/s]\n"
     ]
    }
   ],
   "source": [
    "from datasets import Features, ClassLabel, Value, Image\n",
    "\n",
    "features = Features({\n",
    "    \"image\": Image(),\n",
    "    \"label\": ClassLabel(names=[\"benign\", \"malignant\"]),\n",
    "    \"text\": Value(\"string\"),\n",
    "})\n",
    "dataset = load_dataset(\"imagefolder\", data_dir=\"../data/BreastThermography\", features=features)"
   ]
  },
  {
   "cell_type": "code",
   "execution_count": 12,
   "metadata": {},
   "outputs": [
    {
     "name": "stderr",
     "output_type": "stream",
     "text": [
      "Map: 100%|██████████| 285/285 [00:00<00:00, 346.20 examples/s]it/s]\n",
      "Creating parquet from Arrow format: 100%|██████████| 3/3 [00:00<00:00,  7.48ba/s]\n",
      "Uploading the dataset shards: 100%|██████████| 1/1 [00:16<00:00, 16.06s/it]\n",
      "Map: 100%|██████████| 72/72 [00:00<00:00, 379.84 examples/s] ?it/s]\n",
      "Creating parquet from Arrow format: 100%|██████████| 1/1 [00:00<00:00, 11.98ba/s]\n",
      "Uploading the dataset shards: 100%|██████████| 1/1 [00:04<00:00,  4.51s/it]\n"
     ]
    },
    {
     "data": {
      "text/plain": [
       "CommitInfo(commit_url='https://huggingface.co/datasets/SemilleroCV/BreastThermography/commit/0ccf31884518f05b6ea6c06344f85a9ff5f2a1a1', commit_message='Upload dataset', commit_description='', oid='0ccf31884518f05b6ea6c06344f85a9ff5f2a1a1', pr_url=None, repo_url=RepoUrl('https://huggingface.co/datasets/SemilleroCV/BreastThermography', endpoint='https://huggingface.co', repo_type='dataset', repo_id='SemilleroCV/BreastThermography'), pr_revision=None, pr_num=None)"
      ]
     },
     "execution_count": 12,
     "metadata": {},
     "output_type": "execute_result"
    }
   ],
   "source": [
    "dataset.push_to_hub(\"SemilleroCV/BreastThermography\")"
   ]
  },
  {
   "cell_type": "markdown",
   "metadata": {},
   "source": [
    "## dmr-ir"
   ]
  },
  {
   "cell_type": "code",
   "execution_count": 11,
   "metadata": {},
   "outputs": [
    {
     "name": "stderr",
     "output_type": "stream",
     "text": [
      "Downloading data: 100%|██████████| 5672/5672 [00:00<00:00, 345997.44files/s]\n",
      "Downloading data: 100%|██████████| 1483/1483 [00:00<00:00, 38130.97files/s]\n",
      "Generating train split: 5671 examples [00:00, 11927.10 examples/s]\n",
      "Generating test split: 1482 examples [00:00, 7717.52 examples/s]\n"
     ]
    },
    {
     "data": {
      "text/plain": [
       "{'image': <PIL.TiffImagePlugin.TiffImageFile image mode=F size=640x480>,\n",
       " 'label': 0,\n",
       " 'text': 'Patient is 75 years old of mestizo race. Has eating habits no fat. Complaints reported were no. Additionally, patient reported yes. No information provided for radiotherapy, use of hormone replacement. No protocol information provided.'}"
      ]
     },
     "execution_count": 11,
     "metadata": {},
     "output_type": "execute_result"
    }
   ],
   "source": [
    "dataset = load_dataset(\"imagefolder\", data_dir=\"../data/DMR-IR\")\n",
    "dataset['train'][0]"
   ]
  },
  {
   "cell_type": "code",
   "execution_count": 12,
   "metadata": {},
   "outputs": [
    {
     "name": "stderr",
     "output_type": "stream",
     "text": [
      "Map: 100%|██████████| 406/406 [00:03<00:00, 118.12 examples/s]?it/s]\n",
      "Creating parquet from Arrow format: 100%|██████████| 5/5 [00:02<00:00,  1.79ba/s]\n",
      "Map: 100%|██████████| 405/405 [00:03<00:00, 120.07 examples/s]11, 134.72s/it]\n",
      "Creating parquet from Arrow format: 100%|██████████| 5/5 [00:02<00:00,  1.94ba/s]\n",
      "Map: 100%|██████████| 405/405 [00:03<00:00, 105.19 examples/s]22, 141.86s/it]\n",
      "Creating parquet from Arrow format: 100%|██████████| 5/5 [00:02<00:00,  2.22ba/s]\n",
      "Map: 100%|██████████| 405/405 [00:03<00:00, 121.27 examples/s]27, 138.90s/it]\n",
      "Creating parquet from Arrow format: 100%|██████████| 5/5 [00:02<00:00,  2.06ba/s]\n",
      "Map: 100%|██████████| 405/405 [00:03<00:00, 111.14 examples/s]22, 134.24s/it]\n",
      "Creating parquet from Arrow format: 100%|██████████| 5/5 [00:02<00:00,  1.91ba/s]\n",
      "Map: 100%|██████████| 405/405 [00:03<00:00, 130.20 examples/s]39, 131.09s/it]\n",
      "Creating parquet from Arrow format: 100%|██████████| 5/5 [00:02<00:00,  1.92ba/s]\n",
      "Map: 100%|██████████| 405/405 [00:03<00:00, 122.57 examples/s]24, 130.62s/it]\n",
      "Creating parquet from Arrow format: 100%|██████████| 5/5 [00:02<00:00,  1.91ba/s]\n",
      "Map: 100%|██████████| 405/405 [00:03<00:00, 125.52 examples/s]25, 132.29s/it]\n",
      "Creating parquet from Arrow format: 100%|██████████| 5/5 [00:02<00:00,  2.04ba/s]\n",
      "Map: 100%|██████████| 405/405 [00:03<00:00, 123.89 examples/s]11, 131.93s/it]\n",
      "Creating parquet from Arrow format: 100%|██████████| 5/5 [00:02<00:00,  2.11ba/s]\n",
      "Map: 100%|██████████| 405/405 [00:03<00:00, 106.62 examples/s]46, 117.38s/it]\n",
      "Creating parquet from Arrow format: 100%|██████████| 5/5 [00:02<00:00,  1.98ba/s]\n",
      "Map: 100%|██████████| 405/405 [00:03<00:00, 113.67 examples/s]:11, 107.98s/it]\n",
      "Creating parquet from Arrow format: 100%|██████████| 5/5 [00:02<00:00,  1.93ba/s]\n",
      "Map: 100%|██████████| 405/405 [00:03<00:00, 123.38 examples/s]:05, 101.77s/it]\n",
      "Creating parquet from Arrow format: 100%|██████████| 5/5 [00:02<00:00,  1.88ba/s]\n",
      "Map: 100%|██████████| 405/405 [00:03<00:00, 108.31 examples/s]:19, 99.53s/it] \n",
      "Creating parquet from Arrow format: 100%|██████████| 5/5 [00:02<00:00,  1.90ba/s]\n",
      "Map: 100%|██████████| 405/405 [00:03<00:00, 122.71 examples/s]:39, 99.68s/it]\n",
      "Creating parquet from Arrow format: 100%|██████████| 5/5 [00:02<00:00,  1.96ba/s]\n",
      "Uploading the dataset shards: 100%|██████████| 14/14 [26:56<00:00, 115.48s/it]\n",
      "Map: 100%|██████████| 371/371 [00:02<00:00, 134.35 examples/s]it/s]\n",
      "Creating parquet from Arrow format: 100%|██████████| 4/4 [00:02<00:00,  1.90ba/s]\n",
      "Map: 100%|██████████| 371/371 [00:03<00:00, 122.35 examples/s]1, 73.93s/it]\n",
      "Creating parquet from Arrow format: 100%|██████████| 4/4 [00:02<00:00,  1.68ba/s]\n",
      "Map: 100%|██████████| 370/370 [00:03<00:00, 114.02 examples/s]3, 76.71s/it]\n",
      "Creating parquet from Arrow format: 100%|██████████| 4/4 [00:02<00:00,  1.73ba/s]\n",
      "Map: 100%|██████████| 370/370 [00:03<00:00, 121.09 examples/s]7, 77.21s/it]\n",
      "Creating parquet from Arrow format: 100%|██████████| 4/4 [00:02<00:00,  1.69ba/s]\n",
      "Uploading the dataset shards: 100%|██████████| 4/4 [05:18<00:00, 79.60s/it]\n"
     ]
    },
    {
     "data": {
      "text/plain": [
       "CommitInfo(commit_url='https://huggingface.co/datasets/SemilleroCV/DMR-IR/commit/454a3c6a740d65e8826001e3c86064b000a3c81c', commit_message='Upload dataset', commit_description='', oid='454a3c6a740d65e8826001e3c86064b000a3c81c', pr_url=None, repo_url=RepoUrl('https://huggingface.co/datasets/SemilleroCV/DMR-IR', endpoint='https://huggingface.co', repo_type='dataset', repo_id='SemilleroCV/DMR-IR'), pr_revision=None, pr_num=None)"
      ]
     },
     "execution_count": 12,
     "metadata": {},
     "output_type": "execute_result"
    }
   ],
   "source": [
    "dataset.push_to_hub(\"SemilleroCV/DMR-IR\")"
   ]
  },
  {
   "cell_type": "code",
   "execution_count": 13,
   "metadata": {},
   "outputs": [
    {
     "name": "stderr",
     "output_type": "stream",
     "text": [
      "Generating train split: 100%|██████████| 285/285 [00:00<00:00, 593.14 examples/s]\n",
      "Generating test split: 100%|██████████| 72/72 [00:00<00:00, 686.41 examples/s]\n"
     ]
    }
   ],
   "source": [
    "from datasets import load_dataset\n",
    "dataset = load_dataset(\"SemilleroCV/BreastThermography\", download_mode=\"force_redownload\")\n"
   ]
  }
 ],
 "metadata": {
  "kernelspec": {
   "display_name": "bc-colcaci",
   "language": "python",
   "name": "python3"
  },
  "language_info": {
   "codemirror_mode": {
    "name": "ipython",
    "version": 3
   },
   "file_extension": ".py",
   "mimetype": "text/x-python",
   "name": "python",
   "nbconvert_exporter": "python",
   "pygments_lexer": "ipython3",
   "version": "3.10.16"
  }
 },
 "nbformat": 4,
 "nbformat_minor": 2
}
