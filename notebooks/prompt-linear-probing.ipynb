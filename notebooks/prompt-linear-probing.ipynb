{
 "cells": [
  {
   "cell_type": "code",
   "execution_count": null,
   "metadata": {},
   "outputs": [
    {
     "name": "stderr",
     "output_type": "stream",
     "text": [
      "/home/guillermo/.local/lib/python3.10/site-packages/tqdm/auto.py:21: TqdmWarning: IProgress not found. Please update jupyter and ipywidgets. See https://ipywidgets.readthedocs.io/en/stable/user_install.html\n",
      "  from .autonotebook import tqdm as notebook_tqdm\n"
     ]
    }
   ],
   "source": [
    "# Enable autoreload for updated modules\n",
    "%load_ext autoreload\n",
    "%autoreload 2\n",
    "\n",
    "from torch.utils.data import DataLoader\n",
    "import torch\n",
    "\n",
    "import sys\n",
    "\n",
    "# check whether run in Colab\n",
    "if 'google.colab' in sys.modules:\n",
    "    print('Running in Colab.')\n",
    "    !git clone https://github.com/semilleroCV/breastcatt.git\n",
    "    sys.path.append('./breastcatt')\n",
    "else:\n",
    "    sys.path.append('..')\n",
    "from transformers import AutoModel, AutoTokenizer, AutoConfig\n",
    "from breastcatt.dataset import PromptDataset\n",
    "from breastcatt.linear_probe import evaluate_linear_probe"
   ]
  },
  {
   "cell_type": "code",
   "execution_count": 7,
   "metadata": {},
   "outputs": [
    {
     "name": "stdout",
     "output_type": "stream",
     "text": [
      "{'prompt': 'Patient is 79 years old of white race. Has eating habits low in fat. Complaints reported were no. Additionally, patient reported no. No information provided for radiotherapy, use of hormone replacement.', 'label': 0}\n"
     ]
    }
   ],
   "source": [
    "include_demographic=True\n",
    "include_personal_history=True\n",
    "include_medical_history=True\n",
    "include_protocol=False\n",
    "\n",
    "dataset = PromptDataset(r\"/home/guillermo/ssd/Github/BreastCATT/data/prompts\",\n",
    "                        r\"/home/guillermo/ssd/Github/BreastCATT/data/patient_labels.json\",\n",
    "                        include_demographic=include_demographic,\n",
    "                        include_personal_history=include_personal_history,\n",
    "                        include_medical_history=include_medical_history,\n",
    "                        include_protocol=include_protocol)\n",
    "print(dataset[10])\n",
    "\n",
    "# Use DataLoader to load the data in batches\n",
    "dataloader = DataLoader(dataset, batch_size=1, shuffle=True)"
   ]
  },
  {
   "cell_type": "markdown",
   "metadata": {},
   "source": [
    "## GatorTron-Base"
   ]
  },
  {
   "cell_type": "code",
   "execution_count": 3,
   "metadata": {},
   "outputs": [],
   "source": [
    "device = torch.device('cuda:0' if torch.cuda.is_available() else 'cpu')\n",
    "\n",
    "tokenizer= AutoTokenizer.from_pretrained('UFNLP/gatortron-base')\n",
    "config=AutoConfig.from_pretrained('UFNLP/gatortron-base')\n",
    "model=AutoModel.from_pretrained('UFNLP/gatortron-base')\n",
    "model = model.to(device)"
   ]
  },
  {
   "cell_type": "markdown",
   "metadata": {},
   "source": [
    "Con edad y raza. Ejemplo: 'Patient is 73 years old of white race.'"
   ]
  },
  {
   "cell_type": "code",
   "execution_count": 8,
   "metadata": {},
   "outputs": [
    {
     "name": "stdout",
     "output_type": "stream",
     "text": [
      "Iteration 1/10 - Accuracy: 53.57%\n",
      "Iteration 2/10 - Accuracy: 70.24%\n",
      "Iteration 3/10 - Accuracy: 70.24%\n",
      "Iteration 4/10 - Accuracy: 59.52%\n",
      "Iteration 5/10 - Accuracy: 69.05%\n",
      "Iteration 6/10 - Accuracy: 71.43%\n",
      "Iteration 7/10 - Accuracy: 71.43%\n",
      "Iteration 8/10 - Accuracy: 69.05%\n",
      "Iteration 9/10 - Accuracy: 71.43%\n",
      "Iteration 10/10 - Accuracy: 71.43%\n",
      "Average Accuracy: 67.74% ± 5.82%\n"
     ]
    }
   ],
   "source": [
    "avg_acc, std_acc = evaluate_linear_probe(10, dataloader, model, tokenizer, device)"
   ]
  },
  {
   "cell_type": "markdown",
   "metadata": {},
   "source": [
    "Con edad, raza e historia personal. Ejemplo: 'Patient is 73 years old of white race. Has eating habits fatty diet. Menarche occurred at 13 years old. Complaints reported were pain when using cream deodorant. Additionally, patient reported no and presence of glands lymph nodes in the left breast.'"
   ]
  },
  {
   "cell_type": "code",
   "execution_count": 6,
   "metadata": {},
   "outputs": [
    {
     "name": "stdout",
     "output_type": "stream",
     "text": [
      "Iteration 1/10 - Accuracy: 89.29%\n",
      "Iteration 2/10 - Accuracy: 95.24%\n",
      "Iteration 3/10 - Accuracy: 89.29%\n",
      "Iteration 4/10 - Accuracy: 90.48%\n",
      "Iteration 5/10 - Accuracy: 92.86%\n",
      "Iteration 6/10 - Accuracy: 95.24%\n",
      "Iteration 7/10 - Accuracy: 85.71%\n",
      "Iteration 8/10 - Accuracy: 94.05%\n",
      "Iteration 9/10 - Accuracy: 94.05%\n",
      "Iteration 10/10 - Accuracy: 91.67%\n",
      "Average Accuracy: 91.79% ± 2.94%\n"
     ]
    }
   ],
   "source": [
    "avg_acc, std_acc = evaluate_linear_probe(10, dataloader, model, tokenizer, device)"
   ]
  },
  {
   "cell_type": "markdown",
   "metadata": {},
   "source": [
    "Con edad, raza, historia personal e historia médica. Ejemplo: 'Patient is 44 years old of black race. Has a high-fat diet. Last menstruation was at 34 years old and menarche occurred at 15 years old. Additionally, patient reported wart. No information provided for mammography, biopsy, plastic surgery, prosthesis, radiotherapy, use of hormone replacement, nipple changes.'"
   ]
  },
  {
   "cell_type": "code",
   "execution_count": 15,
   "metadata": {},
   "outputs": [
    {
     "name": "stdout",
     "output_type": "stream",
     "text": [
      "Iteration 1/10 - Accuracy: 89.29%\n",
      "Iteration 2/10 - Accuracy: 91.67%\n",
      "Iteration 3/10 - Accuracy: 91.67%\n",
      "Iteration 4/10 - Accuracy: 90.48%\n",
      "Iteration 5/10 - Accuracy: 88.10%\n",
      "Iteration 6/10 - Accuracy: 90.48%\n",
      "Iteration 7/10 - Accuracy: 88.10%\n",
      "Iteration 8/10 - Accuracy: 89.29%\n",
      "Iteration 9/10 - Accuracy: 90.48%\n",
      "Iteration 10/10 - Accuracy: 90.48%\n",
      "Average Accuracy: 90.00% ± 1.21%\n"
     ]
    }
   ],
   "source": [
    "avg_acc, std_acc = evaluate_linear_probe(10, dataloader, model, tokenizer, device)"
   ]
  },
  {
   "cell_type": "markdown",
   "metadata": {},
   "source": [
    "Con edad, raza, historia personal, historia médica e información protocolaria. Ejemplo: 'Patient is 69 years old of mestizo race. Has eating habits low in fat. Last menstruation was at 60 years old. Complaints reported were yes. Additionally, patient reported no lumps were found in the touch exam and feels an uncomfortable to lie down. No information provided for nipple changes. In the clinical history, mammography was reported as yes, biopsy was no, plastic surgery was no, prosthesis was no, radiotherapy was no, use of hormone replacement was yes. Regarding the protocol, a body temperature of 36.50°C, alcohol consumption was no, coffee drinking was no, smoking was no, physical exercise was no.\n",
    "'"
   ]
  },
  {
   "cell_type": "code",
   "execution_count": 20,
   "metadata": {},
   "outputs": [
    {
     "name": "stdout",
     "output_type": "stream",
     "text": [
      "Iteration 1/10 - Accuracy: 86.90%\n",
      "Iteration 2/10 - Accuracy: 90.48%\n",
      "Iteration 3/10 - Accuracy: 88.10%\n",
      "Iteration 4/10 - Accuracy: 88.10%\n",
      "Iteration 5/10 - Accuracy: 86.90%\n",
      "Iteration 6/10 - Accuracy: 86.90%\n",
      "Iteration 7/10 - Accuracy: 88.10%\n",
      "Iteration 8/10 - Accuracy: 85.71%\n",
      "Iteration 9/10 - Accuracy: 89.29%\n",
      "Iteration 10/10 - Accuracy: 90.48%\n",
      "Average Accuracy: 88.10% ± 1.51%\n"
     ]
    }
   ],
   "source": [
    "avg_acc, std_acc = evaluate_linear_probe(10, dataloader, model, tokenizer, device)"
   ]
  },
  {
   "cell_type": "markdown",
   "metadata": {},
   "source": [
    "Con características seleccionadas basandonos en la sección 2.3 del paper Multi-input convolutional neural network for breast cancer detection using thermal images and clinical data"
   ]
  },
  {
   "cell_type": "code",
   "execution_count": 4,
   "metadata": {},
   "outputs": [
    {
     "name": "stdout",
     "output_type": "stream",
     "text": [
      "Iteration 1/10 - Accuracy: 84.52%\n",
      "Iteration 2/10 - Accuracy: 88.10%\n",
      "Iteration 3/10 - Accuracy: 91.67%\n",
      "Iteration 4/10 - Accuracy: 91.67%\n",
      "Iteration 5/10 - Accuracy: 95.24%\n",
      "Iteration 6/10 - Accuracy: 90.48%\n",
      "Iteration 7/10 - Accuracy: 89.29%\n",
      "Iteration 8/10 - Accuracy: 83.33%\n",
      "Iteration 9/10 - Accuracy: 88.10%\n",
      "Iteration 10/10 - Accuracy: 92.86%\n",
      "Average Accuracy: 89.52% ± 3.48%\n"
     ]
    }
   ],
   "source": [
    "avg_acc, std_acc = evaluate_linear_probe(10, dataloader, model, tokenizer, device)"
   ]
  },
  {
   "cell_type": "markdown",
   "metadata": {},
   "source": [
    "## CLIP"
   ]
  },
  {
   "cell_type": "code",
   "execution_count": 41,
   "metadata": {},
   "outputs": [],
   "source": [
    "from transformers import CLIPTokenizer, CLIPModel\n",
    "\n",
    "device = torch.device('cuda:0' if torch.cuda.is_available() else 'cpu')\n",
    "\n",
    "tokenizer = CLIPTokenizer.from_pretrained(\"openai/clip-vit-base-patch32\")\n",
    "model = CLIPModel.from_pretrained(\"openai/clip-vit-base-patch32\")\n",
    "model = model.to(device)"
   ]
  },
  {
   "cell_type": "markdown",
   "metadata": {},
   "source": [
    "Con edad y raza. Ejemplo: 'Patient is 73 years old of white race.'"
   ]
  },
  {
   "cell_type": "code",
   "execution_count": 28,
   "metadata": {},
   "outputs": [
    {
     "name": "stdout",
     "output_type": "stream",
     "text": [
      "Iteration 1/10 - Accuracy: 70.24%\n",
      "Iteration 2/10 - Accuracy: 65.48%\n",
      "Iteration 3/10 - Accuracy: 71.43%\n",
      "Iteration 4/10 - Accuracy: 70.24%\n",
      "Iteration 5/10 - Accuracy: 66.67%\n",
      "Iteration 6/10 - Accuracy: 65.48%\n",
      "Iteration 7/10 - Accuracy: 70.24%\n",
      "Iteration 8/10 - Accuracy: 55.95%\n",
      "Iteration 9/10 - Accuracy: 67.86%\n",
      "Iteration 10/10 - Accuracy: 67.86%\n",
      "Average Accuracy: 67.14% ± 4.23%\n"
     ]
    }
   ],
   "source": [
    "avg_acc, std_acc = evaluate_linear_probe(10, dataloader, model, tokenizer, device)"
   ]
  },
  {
   "cell_type": "markdown",
   "metadata": {},
   "source": [
    "Con edad, raza e historia personal. Ejemplo: 'Patient is 73 years old of white race. Has eating habits fatty diet. Menarche occurred at 13 years old. Complaints reported were pain when using cream deodorant. Additionally, patient reported no and presence of glands lymph nodes in the left breast.'"
   ]
  },
  {
   "cell_type": "code",
   "execution_count": 42,
   "metadata": {},
   "outputs": [
    {
     "name": "stderr",
     "output_type": "stream",
     "text": [
      "Token indices sequence length is longer than the specified maximum sequence length for this model (78 > 77). Running this sequence through the model will result in indexing errors\n"
     ]
    },
    {
     "name": "stdout",
     "output_type": "stream",
     "text": [
      "Iteration 1/10 - Accuracy: 91.67%\n",
      "Iteration 2/10 - Accuracy: 90.48%\n",
      "Iteration 3/10 - Accuracy: 89.29%\n",
      "Iteration 4/10 - Accuracy: 85.71%\n",
      "Iteration 5/10 - Accuracy: 88.10%\n",
      "Iteration 6/10 - Accuracy: 88.10%\n",
      "Iteration 7/10 - Accuracy: 91.67%\n",
      "Iteration 8/10 - Accuracy: 82.14%\n",
      "Iteration 9/10 - Accuracy: 88.10%\n",
      "Iteration 10/10 - Accuracy: 92.86%\n",
      "Average Accuracy: 88.81% ± 3.02%\n"
     ]
    }
   ],
   "source": [
    "avg_acc, std_acc = evaluate_linear_probe(10, dataloader, model, tokenizer, device)"
   ]
  },
  {
   "cell_type": "markdown",
   "metadata": {},
   "source": [
    "Probar con un prompt más largo no es posible debido al max_length=77 impuesto en CLIP"
   ]
  },
  {
   "cell_type": "markdown",
   "metadata": {},
   "source": [
    "## Bio_ClinicalBERT"
   ]
  },
  {
   "cell_type": "code",
   "execution_count": 43,
   "metadata": {},
   "outputs": [],
   "source": [
    "device = torch.device('cuda:0' if torch.cuda.is_available() else 'cpu')\n",
    "\n",
    "tokenizer= AutoTokenizer.from_pretrained('emilyalsentzer/Bio_ClinicalBERT')\n",
    "config=AutoConfig.from_pretrained('emilyalsentzer/Bio_ClinicalBERT')\n",
    "model=AutoModel.from_pretrained('emilyalsentzer/Bio_ClinicalBERT')\n",
    "model = model.to(device)"
   ]
  },
  {
   "cell_type": "markdown",
   "metadata": {},
   "source": [
    "Con edad y raza. Ejemplo: 'Patient is 73 years old of white race.'"
   ]
  },
  {
   "cell_type": "code",
   "execution_count": 46,
   "metadata": {},
   "outputs": [
    {
     "name": "stdout",
     "output_type": "stream",
     "text": [
      "Iteration 1/10 - Accuracy: 65.48%\n",
      "Iteration 2/10 - Accuracy: 67.86%\n",
      "Iteration 3/10 - Accuracy: 69.05%\n",
      "Iteration 4/10 - Accuracy: 69.05%\n",
      "Iteration 5/10 - Accuracy: 66.67%\n",
      "Iteration 6/10 - Accuracy: 66.67%\n",
      "Iteration 7/10 - Accuracy: 65.48%\n",
      "Iteration 8/10 - Accuracy: 66.67%\n",
      "Iteration 9/10 - Accuracy: 67.86%\n",
      "Iteration 10/10 - Accuracy: 67.86%\n",
      "Average Accuracy: 67.26% ± 1.22%\n"
     ]
    }
   ],
   "source": [
    "avg_acc, std_acc = evaluate_linear_probe(10, dataloader, model, tokenizer, device)"
   ]
  },
  {
   "cell_type": "markdown",
   "metadata": {},
   "source": [
    "Con edad, raza e historia personal. Ejemplo: 'Patient is 73 years old of white race. Has eating habits fatty diet. Menarche occurred at 13 years old. Complaints reported were pain when using cream deodorant. Additionally, patient reported no and presence of glands lymph nodes in the left breast.'"
   ]
  },
  {
   "cell_type": "code",
   "execution_count": 49,
   "metadata": {},
   "outputs": [
    {
     "name": "stdout",
     "output_type": "stream",
     "text": [
      "Iteration 1/10 - Accuracy: 84.52%\n",
      "Iteration 2/10 - Accuracy: 90.48%\n",
      "Iteration 3/10 - Accuracy: 82.14%\n",
      "Iteration 4/10 - Accuracy: 86.90%\n",
      "Iteration 5/10 - Accuracy: 89.29%\n",
      "Iteration 6/10 - Accuracy: 95.24%\n",
      "Iteration 7/10 - Accuracy: 88.10%\n",
      "Iteration 8/10 - Accuracy: 85.71%\n",
      "Iteration 9/10 - Accuracy: 86.90%\n",
      "Iteration 10/10 - Accuracy: 91.67%\n",
      "Average Accuracy: 88.10% ± 3.57%\n"
     ]
    }
   ],
   "source": [
    "avg_acc, std_acc = evaluate_linear_probe(10, dataloader, model, tokenizer, device)"
   ]
  },
  {
   "cell_type": "markdown",
   "metadata": {},
   "source": [
    "Con edad, raza, historia personal e historia médica. Ejemplo: 'Patient is 44 years old of black race. Has a high-fat diet. Last menstruation was at 34 years old and menarche occurred at 15 years old. Additionally, patient reported wart. No information provided for mammography, biopsy, plastic surgery, prosthesis, radiotherapy, use of hormone replacement, nipple changes.'"
   ]
  },
  {
   "cell_type": "code",
   "execution_count": 52,
   "metadata": {},
   "outputs": [
    {
     "name": "stdout",
     "output_type": "stream",
     "text": [
      "Iteration 1/10 - Accuracy: 78.57%\n",
      "Iteration 2/10 - Accuracy: 79.76%\n",
      "Iteration 3/10 - Accuracy: 82.14%\n",
      "Iteration 4/10 - Accuracy: 78.57%\n",
      "Iteration 5/10 - Accuracy: 80.95%\n",
      "Iteration 6/10 - Accuracy: 80.95%\n",
      "Iteration 7/10 - Accuracy: 84.52%\n",
      "Iteration 8/10 - Accuracy: 79.76%\n",
      "Iteration 9/10 - Accuracy: 75.00%\n",
      "Iteration 10/10 - Accuracy: 89.29%\n",
      "Average Accuracy: 80.95% ± 3.65%\n"
     ]
    }
   ],
   "source": [
    "avg_acc, std_acc = evaluate_linear_probe(10, dataloader, model, tokenizer, device)"
   ]
  },
  {
   "cell_type": "markdown",
   "metadata": {},
   "source": [
    "Con edad, raza, historia personal, historia médica e información protocolaria. Ejemplo: 'Patient is 69 years old of mestizo race. Has eating habits low in fat. Last menstruation was at 60 years old. Complaints reported were yes. Additionally, patient reported no lumps were found in the touch exam and feels an uncomfortable to lie down. No information provided for nipple changes. In the clinical history, mammography was reported as yes, biopsy was no, plastic surgery was no, prosthesis was no, radiotherapy was no, use of hormone replacement was yes. Regarding the protocol, a body temperature of 36.50°C, alcohol consumption was no, coffee drinking was no, smoking was no, physical exercise was no.\n",
    "'"
   ]
  },
  {
   "cell_type": "code",
   "execution_count": 55,
   "metadata": {},
   "outputs": [
    {
     "name": "stdout",
     "output_type": "stream",
     "text": [
      "Iteration 1/10 - Accuracy: 80.95%\n",
      "Iteration 2/10 - Accuracy: 85.71%\n",
      "Iteration 3/10 - Accuracy: 75.00%\n",
      "Iteration 4/10 - Accuracy: 76.19%\n",
      "Iteration 5/10 - Accuracy: 75.00%\n",
      "Iteration 6/10 - Accuracy: 75.00%\n",
      "Iteration 7/10 - Accuracy: 76.19%\n",
      "Iteration 8/10 - Accuracy: 86.90%\n",
      "Iteration 9/10 - Accuracy: 76.19%\n",
      "Iteration 10/10 - Accuracy: 80.95%\n",
      "Average Accuracy: 78.81% ± 4.32%\n"
     ]
    }
   ],
   "source": [
    "avg_acc, std_acc = evaluate_linear_probe(10, dataloader, model, tokenizer, device)"
   ]
  }
 ],
 "metadata": {
  "kernelspec": {
   "display_name": "bc-colcaci",
   "language": "python",
   "name": "python3"
  },
  "language_info": {
   "codemirror_mode": {
    "name": "ipython",
    "version": 3
   },
   "file_extension": ".py",
   "mimetype": "text/x-python",
   "name": "python",
   "nbconvert_exporter": "python",
   "pygments_lexer": "ipython3",
   "version": "3.10.16"
  }
 },
 "nbformat": 4,
 "nbformat_minor": 2
}
