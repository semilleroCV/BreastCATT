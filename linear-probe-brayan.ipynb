{
 "cells": [
  {
   "cell_type": "code",
   "execution_count": 5,
   "metadata": {},
   "outputs": [],
   "source": [
    "from utils import convert_json_to_sentence, generate_category_prompts\n",
    "import pandas as pd\n",
    "from dataset import PromptDataset\n",
    "from clip_linear import ClipLinearProbing\n",
    "from torch.utils.data import random_split, DataLoader\n",
    "import torch\n",
    "import numpy as np  "
   ]
  },
  {
   "cell_type": "code",
   "execution_count": 3,
   "metadata": {},
   "outputs": [
    {
     "data": {
      "text/plain": [
       "'Patient is 76 years old, widow of unspecified race, registered on 2012-10-24. Has eating habits rich in low in fat. No relevant clinical signs or symptoms were reported. The recorded body temperature is 34.90°C. No mention is made of alcohol consumption, coffee drinking, smoking, recent physical exercise.'"
      ]
     },
     "execution_count": 3,
     "metadata": {},
     "output_type": "execute_result"
    }
   ],
   "source": [
    "data = pd.read_json(r\"/home/guillermo/ssd/Github/BreastCATT/prompts/1.json\")\n",
    "convert_json_to_sentence(data)"
   ]
  },
  {
   "cell_type": "code",
   "execution_count": 6,
   "metadata": {},
   "outputs": [
    {
     "data": {
      "text/plain": [
       "{'risk_factors': 'Risk factors: Age: 76; Eating habits: low in fat; Family history of cancer: ; Radiotherapy treatment: no; Hormone replacement: no; Age at menarche: ; Age at menopause: ; Diabetes history: not specified; Presence of nodules: not specified.',\n",
       " 'complementary_features': 'Complementary features: Prosthesis: no; Signals of wart on breasts: yes, both breasts; Nipple changes: ; Mastectomy: not specified.',\n",
       " 'protocol_features': 'Protocol features: Smoked: ; Drank coffee: ; Consumed alcohol: ; Physical exercise: ; Use of deodorant/products: .'}"
      ]
     },
     "execution_count": 6,
     "metadata": {},
     "output_type": "execute_result"
    }
   ],
   "source": [
    "data = pd.read_json(r\"/home/guillermo/ssd/Github/BreastCATT/prompts/1.json\")\n",
    "generate_category_prompts(data)"
   ]
  },
  {
   "cell_type": "code",
   "execution_count": 4,
   "metadata": {},
   "outputs": [],
   "source": [
    "# dataset = PromptDataset(r\"C:\\Users\\opera\\OneDrive\\Documentos\\GitHub\\BreastCATT\\prompts\", r\"C:\\Users\\opera\\OneDrive\\Documentos\\GitHub\\BreastCATT\\patient_labels.json\")\n",
    "dataset = PromptDataset('/home/guillermo/ssd/Github/BreastCATT/prompts', '/home/guillermo/ssd/Github/BreastCATT/patient_labels.json')\n",
    "\n",
    "\n",
    "# Use DataLoader to load the data in batches\n",
    "dataloader = DataLoader(dataset, batch_size=1, shuffle=True)"
   ]
  },
  {
   "cell_type": "code",
   "execution_count": 5,
   "metadata": {},
   "outputs": [],
   "source": [
    "device = torch.device('cuda:0' if torch.cuda.is_available() else 'cpu')\n",
    "model = ClipLinearProbing(device)"
   ]
  },
  {
   "cell_type": "code",
   "execution_count": 6,
   "metadata": {},
   "outputs": [],
   "source": [
    "for i, batch in enumerate(dataloader):\n",
    "    prompt = batch[\"prompt\"]\n",
    "    label = batch[\"label\"]"
   ]
  },
  {
   "cell_type": "code",
   "execution_count": 7,
   "metadata": {},
   "outputs": [
    {
     "data": {
      "text/plain": [
       "['Patient is 51 years old, single of unspecified race, registered on 2013-04-11. Has eating habits rich in low in fat. Their last menstruation was at 50 years old and menarche occurred at 12 years old. No information is provided for mammography, biopsy, plastic surgery, prosthesis, radiotherapy, use of hormone replacement. No mention is made of alcohol consumption, coffee drinking, smoking, recent physical exercise.']"
      ]
     },
     "execution_count": 7,
     "metadata": {},
     "output_type": "execute_result"
    }
   ],
   "source": [
    "prompt"
   ]
  },
  {
   "cell_type": "code",
   "execution_count": 8,
   "metadata": {},
   "outputs": [
    {
     "data": {
      "text/plain": [
       "tensor([0])"
      ]
     },
     "execution_count": 8,
     "metadata": {},
     "output_type": "execute_result"
    }
   ],
   "source": [
    "label"
   ]
  },
  {
   "cell_type": "code",
   "execution_count": 13,
   "metadata": {},
   "outputs": [
    {
     "name": "stderr",
     "output_type": "stream",
     "text": [
      "/tmp/ipykernel_11411/49885607.py:9: UserWarning: To copy construct from a tensor, it is recommended to use sourceTensor.clone().detach() or sourceTensor.clone().detach().requires_grad_(True), rather than torch.tensor(sourceTensor).\n",
      "  label = torch.tensor(data[\"label\"][0]).float()\n"
     ]
    },
    {
     "name": "stdout",
     "output_type": "stream",
     "text": [
      "(278, 1) (278,)\n"
     ]
    }
   ],
   "source": [
    "# Calculate features\n",
    "\n",
    "all_features = []\n",
    "all_labels = []\n",
    "\n",
    "for data in dataloader:\n",
    "  prompt = data[\"prompt\"]  # get the prompt string from the batch\n",
    "  # print(data['prompt'][0].shape)\n",
    "  label = torch.tensor(data[\"label\"][0]).float()\n",
    "  \n",
    "  with torch.no_grad():\n",
    "      # model expects a list of prompt(s)\n",
    "      text_features = model(prompt)\n",
    "  all_features.append(text_features)\n",
    "  all_labels.append(label.unsqueeze(0))\n",
    "\n",
    "all_features = (torch.sigmoid(torch.cat(all_features).cpu()) > 0.5).float().numpy()\n",
    "all_labels = torch.cat(all_labels).cpu().numpy()\n",
    "print(all_features.shape, all_labels.shape)"
   ]
  },
  {
   "cell_type": "code",
   "execution_count": 22,
   "metadata": {},
   "outputs": [],
   "source": [
    "from sklearn.model_selection import train_test_split\n",
    "\n",
    "X_train, X_test, y_train, y_test = train_test_split(all_features, all_labels, test_size=0.3, random_state=42)"
   ]
  },
  {
   "cell_type": "code",
   "execution_count": 30,
   "metadata": {},
   "outputs": [
    {
     "name": "stdout",
     "output_type": "stream",
     "text": [
      "61.904761904761905\n"
     ]
    }
   ],
   "source": [
    "from sklearn.linear_model import LogisticRegression\n",
    "classifier = LogisticRegression(random_state=0,C=0.4, max_iter=1000, verbose=1)\n",
    "classifier.fit(X_train, y_train)\n",
    "\n",
    "predictions = classifier.predict(X_test)\n",
    "accuracy = np.mean((y_test == predictions).astype(float)) * 100.\n",
    "print(accuracy)"
   ]
  }
 ],
 "metadata": {
  "kernelspec": {
   "display_name": "bc-colcaci",
   "language": "python",
   "name": "python3"
  },
  "language_info": {
   "codemirror_mode": {
    "name": "ipython",
    "version": 3
   },
   "file_extension": ".py",
   "mimetype": "text/x-python",
   "name": "python",
   "nbconvert_exporter": "python",
   "pygments_lexer": "ipython3",
   "version": "3.10.16"
  }
 },
 "nbformat": 4,
 "nbformat_minor": 2
}
